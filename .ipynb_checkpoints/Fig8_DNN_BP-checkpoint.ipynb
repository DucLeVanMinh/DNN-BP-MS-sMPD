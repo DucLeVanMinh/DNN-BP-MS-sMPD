{
 "cells": [
  {
   "cell_type": "code",
   "execution_count": 1,
   "metadata": {},
   "outputs": [],
   "source": [
    "import numpy as np\n",
    "import torch\n",
    "from data_gen import *\n",
    "from BP import *\n",
    "import matplotlib.pyplot as plt\n",
    "from IPython.display import display, clear_output\n",
    "from DNN_BP import *"
   ]
  },
  {
   "cell_type": "code",
   "execution_count": 2,
   "metadata": {},
   "outputs": [
    {
     "data": {
      "text/plain": [
       "<All keys matched successfully>"
      ]
     },
     "execution_count": 2,
     "metadata": {},
     "output_type": "execute_result"
    }
   ],
   "source": [
    "# Choose configuration for channel by commenting or uncommenting\n",
    "Nt, Nr =  8, 32\n",
    "batch = 500\n",
    "Es = 10\n",
    "\n",
    "SNR = np.arange(4,15,2)\n",
    "noise_var = noise_variance(SNR, Es, Nt)\n",
    "device = torch.device('cuda:0')\n",
    "\n",
    "net = DNN_dBP_5(Nt,Nr,device)\n",
    "file = 'DNN-dBP-8x32-5.pt'\n",
    "\n",
    "net = DNN_dBP_10(Nt,Nr,device)\n",
    "file = 'DNN-dBP-8x32-10.pt'\n",
    "\n",
    "net.load_state_dict(torch.load(file))"
   ]
  },
  {
   "cell_type": "code",
   "execution_count": 3,
   "metadata": {},
   "outputs": [
    {
     "data": {
      "image/png": "[encoded data removed]",
      "text/plain": [
       "<Figure size 432x288 with 1 Axes>"
      ]
     },
     "metadata": {
      "needs_background": "light"
     },
     "output_type": "display_data"
    }
   ],
   "source": [
    "# DNN-dBP in 8 x 32 Configuration \n",
    "Rx, Tx = 0.0, 0.0\n",
    "\n",
    "num = 0\n",
    "flag = 0\n",
    "BER = np.zeros((6))\n",
    "ER  = np.zeros((6))\n",
    "\n",
    "s = torch.tensor([-3.0,-1.0,1.0,3.0], device=device).view(4)\n",
    "\n",
    "given_BER = np.array([1e-1, 5e-2, 2e-2, 4e-3, 4.5e-4, 1.1e-5]) # I.I.D\n",
    "\n",
    "while (num<100):\n",
    "    num += 1\n",
    "    for noise in noise_var:\n",
    "        y, x, H = data_gen_16QAM(batch, Nt, Nr, noise, Rx, Tx, device)\n",
    "        P = torch.ones(size=(batch, 2*Nr, 2*Nt, 4), device=device)*0.25\n",
    "         \n",
    "        with torch.no_grad():\n",
    "            _ , gamma = net( y, H, P, noise)\n",
    "        \n",
    "        x_p = s[torch.argmax(gamma, dim=3)]\n",
    "        \n",
    "        ER[flag%6] += torch.sum(torch.squeeze(x_p) != torch.squeeze(x.cuda()))\n",
    "        BER[flag%6] = ER[flag%6]/(batch*4*Nt*(num))\n",
    "        \n",
    "        flag += 1        \n",
    "    \n",
    "    line1 = plt.plot(SNR, BER,c='red', ls='-', marker='o', mfc='none')\n",
    "    line2 = plt.plot(SNR, given_BER,c='blue', ls='-', marker='o', mfc='none')\n",
    "    plt.yscale('log')\n",
    "    plt.title('BER Performance for MIMO system with $N_{t} = 8, N_{r} = 32$')\n",
    "    plt.grid(True, which = 'both')\n",
    "    plt.ylim(1e-5, 1e0)\n",
    "    plt.legend(('Duc DNN-BP - ','Given DNN-BP - '))\n",
    "    \n",
    "    clear_output(wait = True)\n",
    "    plt.pause(0.01)"
   ]
  },
  {
   "cell_type": "code",
   "execution_count": null,
   "metadata": {},
   "outputs": [],
   "source": []
  },
  {
   "cell_type": "code",
   "execution_count": null,
   "metadata": {},
   "outputs": [],
   "source": [
    "# DNN-dBP in 8 x 32 Configuration with Rx, Tx = 0.3, 0.0\n",
    "Rx, Tx = 0.3, 0.0\n",
    "\n",
    "num = 0\n",
    "flag = 0\n",
    "BER = np.zeros((6))\n",
    "ER  = np.zeros((6))\n",
    "\n",
    "s = torch.tensor([-3.0,-1.0,1.0,3.0], device=device).view(4)\n",
    "\n",
    "given_BER = np.array([1e-1, 5e-2, 1.6e-2, 3e-3, 3e-4, 1.2e-5]) # Rx-Cor \n",
    "\n",
    "while (num<100):\n",
    "    num += 1\n",
    "    for noise in noise_var:\n",
    "        y, x, H = data_gen_16QAM(batch, Nt, Nr, noise, Rx, Tx, device)\n",
    "        P = torch.ones(size=(batch, 2*Nr, 2*Nt, 4), device=device)*0.25\n",
    "         \n",
    "        with torch.no_grad():\n",
    "            _ , gamma = net( y, H, P, noise)\n",
    "        \n",
    "        x_p = s[torch.argmax(gamma, dim=3)]\n",
    "        \n",
    "        ER[flag%6] += torch.sum(torch.squeeze(x_p) != torch.squeeze(x.cuda()))\n",
    "        BER[flag%6] = ER[flag%6]/(batch*4*Nt*(num))\n",
    "        \n",
    "        flag += 1        \n",
    "    \n",
    "    line1 = plt.plot(SNR, BER,c='red', ls='-', marker='o', mfc='none')\n",
    "    line2 = plt.plot(SNR, given_BER,c='blue', ls='-', marker='o', mfc='none')\n",
    "    plt.yscale('log')\n",
    "    plt.title('BER Performance for MIMO system with $N_{t} = 8, N_{r} = 32$')\n",
    "    plt.grid(True, which = 'both')\n",
    "    plt.ylim(1e-5, 1e0)\n",
    "    plt.legend(('Duc DNN-BP - ','Given DNN-BP - '))\n",
    "    \n",
    "    clear_output(wait = True)\n",
    "    plt.pause(0.01)"
   ]
  },
  {
   "cell_type": "code",
   "execution_count": null,
   "metadata": {},
   "outputs": [],
   "source": [
    "# DNN-dBP in 8 x 32 Configuration with Rx, Tx = 0.0, 0.3\n",
    "Rx, Tx = 0.0, 0.3\n",
    "\n",
    "num = 0\n",
    "flag = 0\n",
    "BER = np.zeros((6))\n",
    "ER  = np.zeros((6))\n",
    "\n",
    "s = torch.tensor([-3.0,-1.0,1.0,3.0], device=device).view(4)\n",
    "\n",
    "given_BER = np.array([1e-1, 6e-2, 2e-2, 3.5e-3, 4e-4, 2.3e-5]) # Tx-Cor \n",
    "# given_BER = np.array([1e-1, 5e-2, 1.6e-2, 3e-3, 5e-4, 7e-5]) # Rx-Tx-Cor \n",
    "\n",
    "while (True):\n",
    "    num += 1\n",
    "    for noise in noise_var:\n",
    "        y, x, H = data_gen_16QAM(batch, Nt, Nr, noise, Rx, Tx, device)\n",
    "        P = torch.ones(size=(batch, 2*Nr, 2*Nt, 4), device=device)*0.25\n",
    "         \n",
    "        with torch.no_grad():\n",
    "            _ , gamma = net( y, H, P, noise)\n",
    "        \n",
    "        x_p = s[torch.argmax(gamma, dim=3)]\n",
    "        \n",
    "        ER[flag%6] += torch.sum(torch.squeeze(x_p) != torch.squeeze(x.cuda()))\n",
    "        BER[flag%6] = ER[flag%6]/(batch*4*Nt*(num))\n",
    "        \n",
    "        flag += 1        \n",
    "    \n",
    "    line1 = plt.plot(SNR, BER,c='red', ls='-', marker='o', mfc='none')\n",
    "    line2 = plt.plot(SNR, given_BER,c='blue', ls='-', marker='o', mfc='none')\n",
    "    plt.yscale('log')\n",
    "    plt.title('BER Performance for MIMO system with $N_{t} = 8, N_{r} = 32$')\n",
    "    plt.grid(True, which = 'both')\n",
    "    plt.ylim(1e-5, 1e0)\n",
    "    plt.legend(('Duc DNN-BP - ','Given DNN-BP - '))\n",
    "    \n",
    "    clear_output(wait = True)\n",
    "    plt.pause(0.01)"
   ]
  },
  {
   "cell_type": "code",
   "execution_count": null,
   "metadata": {},
   "outputs": [],
   "source": [
    "# DNN-dBP in 8 x 32 Configuration with Rx, Tx = 0.3, 0.3\n",
    "Rx, Tx = 0.3, 0.3\n",
    "\n",
    "num = 0\n",
    "flag = 0\n",
    "BER = np.zeros((6))\n",
    "ER  = np.zeros((6))\n",
    "\n",
    "s = torch.tensor([-3.0,-1.0,1.0,3.0], device=device).view(4)\n",
    " \n",
    "given_BER = np.array([1e-1, 5e-2, 1.6e-2, 3e-3, 5e-4, 7e-5]) # Rx-Tx-Cor \n",
    "\n",
    "while (True):\n",
    "    num += 1\n",
    "    for noise in noise_var:\n",
    "        y, x, H = data_gen_16QAM(batch, Nt, Nr, noise, Rx, Tx, device)\n",
    "        P = torch.ones(size=(batch, 2*Nr, 2*Nt, 4), device=device)*0.25\n",
    "         \n",
    "        with torch.no_grad():\n",
    "            _ , gamma = net( y, H, P, noise)\n",
    "        \n",
    "        x_p = s[torch.argmax(gamma, dim=3)]\n",
    "        \n",
    "        ER[flag%6] += torch.sum(torch.squeeze(x_p) != torch.squeeze(x.cuda()))\n",
    "        BER[flag%6] = ER[flag%6]/(batch*4*Nt*(num))\n",
    "        \n",
    "        flag += 1        \n",
    "    \n",
    "    line1 = plt.plot(SNR, BER,c='red', ls='-', marker='o', mfc='none')\n",
    "    line2 = plt.plot(SNR, given_BER,c='blue', ls='-', marker='o', mfc='none')\n",
    "    plt.yscale('log')\n",
    "    plt.title('BER Performance for MIMO system with $N_{t} = 8, N_{r} = 32$')\n",
    "    plt.grid(True, which = 'both')\n",
    "    plt.ylim(1e-5, 1e0)\n",
    "    plt.legend(('Duc DNN-BP - ','Given DNN-BP - '))\n",
    "    \n",
    "    clear_output(wait = True)\n",
    "    plt.pause(0.01)"
   ]
  },
  {
   "cell_type": "code",
   "execution_count": null,
   "metadata": {},
   "outputs": [],
   "source": []
  }
 ],
 "metadata": {
  "kernelspec": {
   "display_name": "Python 3",
   "language": "python",
   "name": "python3"
  },
  "language_info": {
   "codemirror_mode": {
    "name": "ipython",
    "version": 3
   },
   "file_extension": ".py",
   "mimetype": "text/x-python",
   "name": "python",
   "nbconvert_exporter": "python",
   "pygments_lexer": "ipython3",
   "version": "3.7.9"
  }
 },
 "nbformat": 4,
 "nbformat_minor": 4
}
