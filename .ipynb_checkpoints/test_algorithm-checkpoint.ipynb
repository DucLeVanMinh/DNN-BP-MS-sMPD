{
 "cells": [
  {
   "cell_type": "code",
   "execution_count": 1,
   "metadata": {},
   "outputs": [],
   "source": [
    "import numpy as np\n",
    "import torch\n",
    "import torch.nn as nn\n",
    "import torch.nn.functional as F\n",
    "from data_gen import *\n",
    "from BP import *\n",
    "import matplotlib.pyplot as plt\n",
    "from IPython.display import display, clear_output\n",
    "from DNN_BP import *"
   ]
  },
  {
   "cell_type": "code",
   "execution_count": 19,
   "metadata": {},
   "outputs": [],
   "source": [
    "Nt, Nr, L =  4, 5, 6\n",
    "batch = 2\n",
    "Es = 10\n",
    "device = torch.device('cuda:0')\n",
    "\n",
    "Rx, Tx = 0.0, 0.0\n",
    "\n",
    "s = torch.tensor([-3.0, -1.0, 1.0, 3.0],device=device)\n",
    "\n",
    "delta = 0.56"
   ]
  },
  {
   "cell_type": "code",
   "execution_count": 20,
   "metadata": {},
   "outputs": [],
   "source": [
    "snr = torch.randint(low=0, high=6, size=(batch,Nr,1), device=device)*2.0+4.0\n",
    "noise_var = noise_variance(snr, Es, Nt)\n",
    "n = torch.empty(size=(batch,2*Nr,1), device=device)\n",
    "n[:,0::2,:] = n[:,1::2,:] = ((noise_var*0.5)**0.5)\n",
    "\n",
    "y, x, H = data_gen_16QAM_s(batch, Nt, Nr, n, Rx, Tx, device)\n",
    "\n",
    "y_s, x_s, H_s, n_s = shuffle_data(batch, y, x, H, n)"
   ]
  },
  {
   "cell_type": "code",
   "execution_count": 21,
   "metadata": {},
   "outputs": [],
   "source": [
    "P = torch.ones(size=(batch, 2*Nr, 2*Nt, 4), device=device)*0.25\n",
    "for l in range(L):\n",
    "    P = P/(torch.sum(P, dim=3, keepdim=True))\n",
    "    mean_z = torch.sum(H*(P@s), axis=2, keepdim = True) - H*(P@s)\n",
    "    var_z = torch.sum((H**2)*(P@(s*s)-(P@s)**2),axis=2,keepdim=True)-(H**2)*(P@(s*s)-(P@s)**2)+n\n",
    "    beta = ((torch.unsqueeze(2*H*(y - mean_z), dim=3))@(s-s[0]).view(1,s.shape[0])-(torch.unsqueeze(H**2, dim=3))@(s**2-(s[0])**2).view(1,s.shape[0]))/(2.0*torch.unsqueeze(var_z, dim=3))\n",
    "    gamma = torch.sum(beta, dim=1,keepdim=True)\n",
    "    alpha = gamma - beta\n",
    "    Post_P = torch.exp(alpha.type(torch.double) - (torch.max(alpha.type(torch.double), dim=3, keepdim=True)).values).type(torch.float)\n",
    "    P = (1-delta)*Post_P + delta*P\n",
    "    x_p = s[torch.argmax(gamma, dim=3)]"
   ]
  },
  {
   "cell_type": "code",
   "execution_count": 22,
   "metadata": {},
   "outputs": [
    {
     "data": {
      "text/plain": [
       "tensor([[[-3., -3.,  3.,  1.,  3.,  3.,  3.,  3.]],\n",
       "\n",
       "        [[-3.,  1.,  3., -3.,  1.,  1., -1., -3.]]], device='cuda:0')"
      ]
     },
     "execution_count": 22,
     "metadata": {},
     "output_type": "execute_result"
    }
   ],
   "source": [
    "x_p"
   ]
  },
  {
   "cell_type": "code",
   "execution_count": 23,
   "metadata": {},
   "outputs": [
    {
     "data": {
      "text/plain": [
       "tensor([[[-3.],\n",
       "         [-3.],\n",
       "         [ 3.],\n",
       "         [ 1.],\n",
       "         [ 3.],\n",
       "         [ 3.],\n",
       "         [ 3.],\n",
       "         [ 3.]],\n",
       "\n",
       "        [[-3.],\n",
       "         [ 1.],\n",
       "         [ 3.],\n",
       "         [-3.],\n",
       "         [-1.],\n",
       "         [ 1.],\n",
       "         [ 1.],\n",
       "         [-3.]]], device='cuda:0')"
      ]
     },
     "execution_count": 23,
     "metadata": {},
     "output_type": "execute_result"
    }
   ],
   "source": [
    "x"
   ]
  },
  {
   "cell_type": "code",
   "execution_count": null,
   "metadata": {},
   "outputs": [],
   "source": []
  }
 ],
 "metadata": {
  "kernelspec": {
   "display_name": "Python 3",
   "language": "python",
   "name": "python3"
  },
  "language_info": {
   "codemirror_mode": {
    "name": "ipython",
    "version": 3
   },
   "file_extension": ".py",
   "mimetype": "text/x-python",
   "name": "python",
   "nbconvert_exporter": "python",
   "pygments_lexer": "ipython3",
   "version": "3.7.9"
  }
 },
 "nbformat": 4,
 "nbformat_minor": 4
}
