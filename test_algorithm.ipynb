{
 "cells": [
  {
   "cell_type": "code",
   "execution_count": 1,
   "metadata": {},
   "outputs": [],
   "source": [
    "import numpy as np\n",
    "import torch\n",
    "import torch.nn as nn\n",
    "import torch.nn.functional as F\n",
    "from data_gen import *\n",
    "from BP import *\n",
    "import matplotlib.pyplot as plt\n",
    "from IPython.display import display, clear_output\n",
    "from DNN_BP import *"
   ]
  },
  {
   "cell_type": "code",
   "execution_count": 2,
   "metadata": {},
   "outputs": [],
   "source": [
    "Nt, Nr, L =  8, 32, 6\n",
    "batch = 5\n",
    "Es = 10\n",
    "device = torch.device('cuda:0')\n",
    "\n",
    "Rx, Tx = 0.0, 0.0\n",
    "\n",
    "s = torch.tensor([-3.0, -1.0, 1.0, 3.0],device=device)"
   ]
  },
  {
   "cell_type": "code",
   "execution_count": 38,
   "metadata": {},
   "outputs": [],
   "source": [
    "# snr = torch.randint(low=0, high=6, size=(batch,Nr,1), device=device)*2.0+4.0\n",
    "# noise_var = noise_variance(snr, Es, Nt)\n",
    "# n = torch.empty(size=(batch,2*Nr,1), device=device)\n",
    "# n[:,0::2,:] = n[:,1::2,:] = ((noise_var*0.5)**0.5)\n",
    "\n",
    "# y, x, H = data_gen_16QAM_s(batch, Nt, Nr, n, Rx, Tx, device)\n",
    "\n",
    "# y_s, x_s, H_s, n_s = shuffle_data(batch, y, x, H, n)\n",
    "\n",
    "SNR = 14\n",
    "noise = noise_variance(SNR, Es, Nt)\n",
    "y, x, H = data_gen_16QAM(batch, Nt, Nr, noise, Rx, Tx, device)"
   ]
  },
  {
   "cell_type": "code",
   "execution_count": 39,
   "metadata": {},
   "outputs": [],
   "source": [
    "damp = 0.6\n",
    "w = 0.1\n",
    "b = 0.1"
   ]
  },
  {
   "cell_type": "code",
   "execution_count": 40,
   "metadata": {},
   "outputs": [],
   "source": [
    "P = torch.ones(size=(batch, 2*Nt, 4), device=device)*0.25\n",
    "z, J, var_j = sMPD_transform(y, H, P, noise, Nr, device)\n",
    "\n",
    "for l in range(8):\n",
    "#     P = F.normalize(P, p=1, dim=2)\n",
    "    s = torch.tensor([[-3.0, -1.0, 1.0, 3.0]], device=device).T\n",
    "    J_diag = torch.unsqueeze(torch.diagonal(J, offset=0, dim1=1, dim2=2), dim=2)\n",
    "    mean_v = torch.sum(J*torch.transpose(P@s,1,2),dim=2,keepdim=True) - J_diag*(P@s) \n",
    "    L = (2*(z-mean_v)-J_diag*(s+s[0]).T)*(J_diag*(s-s[0]).T)/(2.0*var_j)\n",
    "    L1 = L - torch.max(L,dim=2,keepdim=True).values\n",
    "    Post_P = w*torch.exp(L1) + b\n",
    "    P = (1-damp)*Post_P + damp*P\n",
    "    \n",
    "x_p = s[torch.argmax(P, dim = 2)]"
   ]
  },
  {
   "cell_type": "code",
   "execution_count": 41,
   "metadata": {},
   "outputs": [
    {
     "data": {
      "text/plain": [
       "tensor([[[ True,  True,  True, False, False],\n",
       "         [ True, False,  True, False, False],\n",
       "         [ True,  True,  True,  True,  True],\n",
       "         [ True,  True,  True, False,  True],\n",
       "         [ True,  True,  True, False,  True],\n",
       "         [ True,  True,  True,  True, False],\n",
       "         [ True,  True,  True,  True,  True],\n",
       "         [ True,  True, False,  True,  True],\n",
       "         [ True,  True,  True,  True,  True],\n",
       "         [ True,  True,  True,  True,  True],\n",
       "         [ True, False, False,  True,  True],\n",
       "         [False,  True,  True, False,  True],\n",
       "         [ True,  True,  True, False,  True],\n",
       "         [False,  True,  True, False,  True],\n",
       "         [ True,  True, False,  True,  True],\n",
       "         [ True,  True, False, False,  True]]], device='cuda:0')"
      ]
     },
     "execution_count": 41,
     "metadata": {},
     "output_type": "execute_result"
    }
   ],
   "source": [
    "x_p.T == x.T"
   ]
  },
  {
   "cell_type": "code",
   "execution_count": null,
   "metadata": {},
   "outputs": [],
   "source": []
  },
  {
   "cell_type": "code",
   "execution_count": null,
   "metadata": {},
   "outputs": [],
   "source": []
  }
 ],
 "metadata": {
  "kernelspec": {
   "display_name": "Python 3",
   "language": "python",
   "name": "python3"
  },
  "language_info": {
   "codemirror_mode": {
    "name": "ipython",
    "version": 3
   },
   "file_extension": ".py",
   "mimetype": "text/x-python",
   "name": "python",
   "nbconvert_exporter": "python",
   "pygments_lexer": "ipython3",
   "version": "3.7.9"
  }
 },
 "nbformat": 4,
 "nbformat_minor": 4
}
